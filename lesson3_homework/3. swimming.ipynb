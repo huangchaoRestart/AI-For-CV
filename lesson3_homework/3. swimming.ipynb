{
 "cells": [
  {
   "cell_type": "markdown",
   "metadata": {},
   "source": [
    "#### **一、算法说明：**\n",
    "    1.带等式约束的优化问题，使用拉格朗日乘子法求解\n",
    "    2.拉格朗日乘子法的数学含义是求解未知变量，使得在未知变量处目标函数和约束等式相切，此时两者的梯度共线\n",
    "    3.带不等式约束的优化问题，使用KKT条件求解，该方法在机器学习中的典型应用是SVM，求带约束条件的最大几何间隔\n",
    "\n",
    "**二、原始数学描述**:\n",
    "\n",
    "    1.横跨第i条河的游泳时间： \n",
    "$$t_{i} = \\frac{s_{i}}{vcosa_{i}}$$\n",
    "\n",
    "    2.垂直方向的游泳距离为：\n",
    "$$dh = \\sum\\limits_{i = 0}^{n} \\left(v_{i}+vsina_{i}\\right)t_{i}$$\n",
    "\n",
    "    3.水平方向游完所有河流需要时间：\n",
    "$$\\sum\\limits_{i = 0}^{n}t_{i}=T$$\n",
    "\n",
    "**三、求垂直方向的最大游泳距离，整合为等式约束问题**:\n",
    "$$ min -\\sum\\limits_{i = 0}^{n} \\frac{s_{i}}{vcosa_{i}}\\left(v_{i}+vsina_{i}\\right)$$\n",
    "$$ s.t. \\sum\\limits_{i = 0}^{n}\\frac{s_{i}}{vcosa_{i}}-T = 0$$\n",
    "\n",
    "**四、根据等式约束问题，定义拉格朗日函数$f(a,\\lambda)$**\n",
    "$$f(a,\\lambda)= -\\sum\\limits_{i = 0}^{n} \\frac{s_{i}}{vcosa_{i}}\\left(v_{i}+vsina_{i}\\right) + \\lambda\\left(\\sum\\limits_{i = 0}^{n}\\frac{s_{i}}{vcosa_{i}}-T\\right)$$\n",
    "\n",
    "**五、最优解可通过求解偏导 $\\partial f(a,\\lambda)/ \\partial a_{i} = 0$ 和 $\\partial f(a,\\lambda)/ \\partial \\lambda = 0$ 得到，此处就不再展开**\n",
    "\n",
    "\n",
    "\n"
   ]
  },
  {
   "cell_type": "code",
   "execution_count": null,
   "metadata": {},
   "outputs": [],
   "source": []
  }
 ],
 "metadata": {
  "kernelspec": {
   "display_name": "Python 3",
   "language": "python",
   "name": "python3"
  },
  "language_info": {
   "codemirror_mode": {
    "name": "ipython",
    "version": 3
   },
   "file_extension": ".py",
   "mimetype": "text/x-python",
   "name": "python",
   "nbconvert_exporter": "python",
   "pygments_lexer": "ipython3",
   "version": "3.7.1"
  }
 },
 "nbformat": 4,
 "nbformat_minor": 2
}
