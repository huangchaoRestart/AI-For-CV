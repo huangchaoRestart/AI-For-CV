{
 "cells": [
  {
   "cell_type": "code",
   "execution_count": null,
   "metadata": {},
   "outputs": [],
   "source": [
    "import cv2\n",
    "import numpy as np"
   ]
  },
  {
   "cell_type": "markdown",
   "metadata": {},
   "source": [
    "#### read \"lenna\" pic"
   ]
  },
  {
   "cell_type": "code",
   "execution_count": null,
   "metadata": {},
   "outputs": [],
   "source": [
    "lenna_image=cv2.imread(\"pic/lenna.jpg\")\n",
    "cv2.imshow(\"lenna\",lenna_image)\n",
    "print(\"lenna shape{}\".format(lenna_image.shape))\n",
    "\n",
    "geo_image=cv2.imread(\"pic/triangle.jpg\")\n",
    "cv2.imshow(\"hline\",geo_image)\n",
    "print(\"hline shape{}\".format(geo_image.shape))\n",
    "key=cv2.waitKey()\n",
    "if key==27:\n",
    "    cv2.destroyAllWindows()"
   ]
  },
  {
   "cell_type": "markdown",
   "metadata": {},
   "source": [
    "#### Gaussian Blur,是线性滤波，一般用于图像去噪，但只能抑制噪声，不能彻底消除噪声。常用的去噪滤波器还有中值滤波等，去椒盐噪声性能更好。"
   ]
  },
  {
   "cell_type": "code",
   "execution_count": null,
   "metadata": {},
   "outputs": [],
   "source": [
    "lenna_gblur=cv2.GaussianBlur(lenna_image,(3,3),sigmaX=1)\n",
    "cv2.imshow(\"lenna_blur_7_5\",lenna_gblur)\n",
    "print(\"lenna shape{}\".format(lenna_gblur.shape))\n",
    "key=cv2.waitKey()\n",
    "if key==27:\n",
    "    cv2.destroyAllWindows()"
   ]
  },
  {
   "cell_type": "markdown",
   "metadata": {},
   "source": [
    "#### 高斯核：把方阵卷积拆分为x,y方向分别执行，加速运算过程"
   ]
  },
  {
   "cell_type": "code",
   "execution_count": null,
   "metadata": {},
   "outputs": [],
   "source": [
    "kernel=cv2.getGaussianKernel(7,5)\n",
    "print(kernel)"
   ]
  },
  {
   "cell_type": "code",
   "execution_count": null,
   "metadata": {},
   "outputs": [],
   "source": [
    "g1_img=cv2.GaussianBlur(lenna_image,(7,7),5)\n",
    "g2_img=cv2.sepFilter2D(lenna_image,-1,kernel,kernel)\n",
    "cv2.imshow(\"g1_blur_lenna\",g1_img)\n",
    "cv2.imshow(\"g2_blur_lenna\",g2_img)\n",
    "key=cv2.waitKey()\n",
    "if key==27:\n",
    "    cv2.destroyAllWindows()"
   ]
  },
  {
   "cell_type": "markdown",
   "metadata": {},
   "source": [
    "#### laplacian变换，一般用于双边缘检测，图片锐化。对噪声较为敏感，检测前应进行相应的高斯滤波，中值滤波等 "
   ]
  },
  {
   "cell_type": "code",
   "execution_count": null,
   "metadata": {},
   "outputs": [],
   "source": [
    "kernel_lap=np.array([[0,-1,0],[-1,4,-1],[0,-1,0]],np.float32)\n",
    "image_lap=cv2.filter2D(lenna_image,-1,kernel=kernel_lap)\n",
    "cv2.imshow(\"lenna_lap\",image_lap)\n",
    "key=cv2.waitKey()\n",
    "if key==27:\n",
    "    cv2.destroyAllWindows()"
   ]
  },
  {
   "cell_type": "code",
   "execution_count": null,
   "metadata": {},
   "outputs": [],
   "source": [
    "kernel_lap8=np.array([[-1,-1,-1],[-1,8,-1],[-1,-1,-1]],np.float32)\n",
    "image_lap8=cv2.filter2D(lenna_image,-1,kernel=kernel_lap8)\n",
    "cv2.imshow(\"lenna_lap8\",image_lap8)\n",
    "key=cv2.waitKey()\n",
    "if key==27:\n",
    "    cv2.destroyAllWindows()"
   ]
  },
  {
   "cell_type": "markdown",
   "metadata": {},
   "source": [
    "#### 图像锐化=像素变化程度大的地方再加大，像素变化程度小的地方再减小"
   ]
  },
  {
   "cell_type": "code",
   "execution_count": null,
   "metadata": {},
   "outputs": [],
   "source": [
    "kernel_sharp=np.array([[0,-1,0],[-1,5,-1],[0,-1,0]],np.float32)\n",
    "image_sharp=cv2.filter2D(lenna_gblur,-1,kernel=kernel_sharp)\n",
    "cv2.imshow(\"lenna_origin\",lenna_image)\n",
    "cv2.imshow(\"lenna_sharp\",image_sharp)\n",
    "key=cv2.waitKey()\n",
    "if key==27:\n",
    "    cv2.destroyAllWindows()"
   ]
  },
  {
   "cell_type": "markdown",
   "metadata": {},
   "source": [
    "#### sobel边缘检测，比laplacian边缘检测稳定，但不够精细"
   ]
  },
  {
   "cell_type": "code",
   "execution_count": null,
   "metadata": {},
   "outputs": [],
   "source": [
    "kernel_edge1=np.array([[-1,-2,-1],[0,0,0],[1,2,1]],np.float32)\n",
    "image_edge1=cv2.filter2D(lenna_image,-1,kernel=kernel_edge1)\n",
    "cv2.imshow(\"lenna_edge1\",image_edge1)\n",
    "key=cv2.waitKey()\n",
    "if key==27:\n",
    "    cv2.destroyAllWindows()"
   ]
  },
  {
   "cell_type": "code",
   "execution_count": null,
   "metadata": {},
   "outputs": [],
   "source": [
    "image_edge2=cv2.filter2D(lenna_image,-1,kernel=kernel_edge1.T)\n",
    "cv2.imshow(\"lenna_edge2\",image_edge2)\n",
    "key=cv2.waitKey()\n",
    "if key==27:\n",
    "    cv2.destroyAllWindows()"
   ]
  },
  {
   "cell_type": "markdown",
   "metadata": {},
   "source": [
    "#### 角点：图片中包含信息较多的点，根据两个方向的特征值大小关系判断是否存在角点"
   ]
  },
  {
   "cell_type": "code",
   "execution_count": 2,
   "metadata": {},
   "outputs": [],
   "source": [
    "image_piano=cv2.imread(\"pic/board.jpg\")\n",
    "cv2.imshow(\"lenna_piano\",image_piano)\n",
    "key=cv2.waitKey()\n",
    "if key==27:\n",
    "    cv2.destroyAllWindows()"
   ]
  },
  {
   "cell_type": "code",
   "execution_count": null,
   "metadata": {},
   "outputs": [],
   "source": [
    "image_piano_gray=np.float32(cv2.cvtColor(image_piano,cv2.COLOR_BGR2GRAY))\n",
    "print(image_piano_gray.shape)"
   ]
  },
  {
   "cell_type": "code",
   "execution_count": null,
   "metadata": {},
   "outputs": [],
   "source": [
    "image_harris=cv2.cornerHarris(image_piano_gray,3,3,0.05)\n",
    "image_harris=cv2.dilate(image_harris,None)\n",
    "thres=0.05*np.max(image_harris)\n",
    "image_piano[image_harris>thres]=[0,0,255]\n",
    "cv2.imshow(\"harris\", image_piano)\n",
    "key=cv2.waitKey()\n",
    "if key==27:\n",
    "    cv2.destroyAllWindows()"
   ]
  },
  {
   "cell_type": "markdown",
   "metadata": {},
   "source": [
    "#### SIFT scale invariant feature transform"
   ]
  },
  {
   "cell_type": "code",
   "execution_count": 7,
   "metadata": {},
   "outputs": [
    {
     "name": "stdout",
     "output_type": "stream",
     "text": [
      "(462, 128)\n",
      "[  2.  60.  29.   2.   7.  31.   9.   0.  15. 174. 122.   7.   9.   4.\n",
      "   1.   6.  19.  12.  29.   2.   0.   0.   0.  21.   0.   0.   0.   0.\n",
      "   0.   0.   0.   0.   0.   1.   3.  46.  23.   8.   1.   0. 177.  17.\n",
      "  12.  41.  32.   2.   0.  29. 184.  15.   3.   0.   0.   0.   0. 184.\n",
      "  24.   2.   0.   0.   0.   0.   0.  18.   0.   0.   1.  72.  29.   0.\n",
      "   0.   0. 184.  43.   3.  41.  16.   0.   0.   3. 184. 133.   0.   0.\n",
      "   0.   0.   0.  50.  46.  11.   0.   0.   0.   0.   0.  11.   0.   0.\n",
      "   0.  25.  26.   2.   0.   0.  13.  11.   1.   6.  10.   1.   0.   0.\n",
      "  14.  12.   0.   0.   0.   0.   0.   0.   0.   0.   0.   0.   0.   0.\n",
      "   0.   0.]\n"
     ]
    }
   ],
   "source": [
    "#creat sift class\n",
    "sift = cv2.xfeatures2d.SIFT_create()\n",
    "# detect SIFT\n",
    "#kp = sift.detect(image_piano,None)   # None for mask\n",
    "#print(kp[0])\n",
    "# compute SIFT descriptor\n",
    "(kp,des) = sift.detectAndCompute(image_piano,None)\n",
    "print(des.shape)\n",
    "img_sift= cv2.drawKeypoints(image_piano,kp,outImage=np.array([]),flags=cv2.DRAW_MATCHES_FLAGS_DEFAULT)\n",
    "cv2.imshow('lenna_sift.jpg', img_sift)\n",
    "key = cv2.waitKey()\n",
    "if key == 27:\n",
    "    cv2.destroyAllWindows()"
   ]
  },
  {
   "cell_type": "code",
   "execution_count": null,
   "metadata": {},
   "outputs": [],
   "source": []
  }
 ],
 "metadata": {
  "kernelspec": {
   "display_name": "Python 3",
   "language": "python",
   "name": "python3"
  },
  "language_info": {
   "codemirror_mode": {
    "name": "ipython",
    "version": 3
   },
   "file_extension": ".py",
   "mimetype": "text/x-python",
   "name": "python",
   "nbconvert_exporter": "python",
   "pygments_lexer": "ipython3",
   "version": "3.7.1"
  }
 },
 "nbformat": 4,
 "nbformat_minor": 2
}
